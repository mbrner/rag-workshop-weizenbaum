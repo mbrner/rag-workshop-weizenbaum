{
 "cells": [
  {
   "cell_type": "code",
   "execution_count": 18,
   "metadata": {},
   "outputs": [
    {
     "name": "stdout",
     "output_type": "stream",
     "text": [
      "[[0. 1. 0.]\n",
      " [1. 0. 0.]\n",
      " [0. 1. 0.]\n",
      " [0. 0. 1.]]\n"
     ]
    }
   ],
   "source": [
    "from sklearn.preprocessing import OneHotEncoder\n",
    "import numpy as np\n",
    "\n",
    "# Sample data\n",
    "corpus = ['dog', 'cat', 'dog', 'fish']\n",
    "\n",
    "# Reshape data to fit the model\n",
    "corpus = np.array(corpus).reshape(-1, 1)\n",
    "\n",
    "# One-hot encode the data\n",
    "onehot_encoder = OneHotEncoder(sparse_output=False)\n",
    "onehot_encoded = onehot_encoder.fit_transform(corpus)\n",
    "\n",
    "print(onehot_encoded)"
   ]
  },
  {
   "cell_type": "code",
   "execution_count": 19,
   "metadata": {},
   "outputs": [
    {
     "name": "stdout",
     "output_type": "stream",
     "text": [
      "[[0 1 1 1 0 0 1 0 1]\n",
      " [0 2 0 1 0 1 1 0 1]\n",
      " [1 0 0 1 1 0 1 1 1]\n",
      " [0 1 1 1 0 0 1 0 1]]\n",
      "['and' 'document' 'first' 'is' 'one' 'second' 'the' 'third' 'this']\n"
     ]
    }
   ],
   "source": [
    "from sklearn.feature_extraction.text import CountVectorizer\n",
    "\n",
    "corpus = [\n",
    "    'This is the first document.',\n",
    "    'This document is the second document.',\n",
    "    'And this is the third one.',\n",
    "    'Is this the first document?',\n",
    "]\n",
    "\n",
    "vectorizer = CountVectorizer()\n",
    "X = vectorizer.fit_transform(corpus)\n",
    "\n",
    "print(X.toarray())\n",
    "# Output:\n",
    "# > [[0 1 1 1 0 0 1 0 1]\n",
    "# >  [0 2 0 1 0 1 1 0 1]\n",
    "# >  [1 0 0 1 1 0 1 1 1]\n",
    "# >  [0 1 1 1 0 0 1 0 1]]\n",
    "print(vectorizer.get_feature_names_out())\n",
    "# Output:\n",
    "# > ['and' 'document' 'first' 'is' 'one' 'second' 'the' 'third' 'this']"
   ]
  },
  {
   "cell_type": "code",
   "execution_count": 20,
   "metadata": {},
   "outputs": [
    {
     "name": "stdout",
     "output_type": "stream",
     "text": [
      "[[0.         0.46979139 0.58028582 0.38408524 0.         0.\n",
      "  0.38408524 0.         0.38408524]\n",
      " [0.         0.6876236  0.         0.28108867 0.         0.53864762\n",
      "  0.28108867 0.         0.28108867]\n",
      " [0.51184851 0.         0.         0.26710379 0.51184851 0.\n",
      "  0.26710379 0.51184851 0.26710379]\n",
      " [0.         0.46979139 0.58028582 0.38408524 0.         0.\n",
      "  0.38408524 0.         0.38408524]]\n",
      "['and' 'document' 'first' 'is' 'one' 'second' 'the' 'third' 'this']\n"
     ]
    }
   ],
   "source": [
    "from sklearn.feature_extraction.text import TfidfVectorizer\n",
    "\n",
    "# Sample data\n",
    "corpus = [\n",
    "    'This is the first document.',\n",
    "    'This document is the second document.',\n",
    "    'And this is the third one.',\n",
    "    'Is this the first document?',\n",
    "]\n",
    "\n",
    "vectorizer = TfidfVectorizer()\n",
    "X = vectorizer.fit_transform(corpus)\n",
    "\n",
    "print(X.toarray())\n",
    "# Output:\n",
    "# > [[0.         0.46979139 0.58028582 0.38408524 0.         0.         0.38408524 0.         0.38408524]\n",
    "# >  [0.         0.6876236  0.         0.28108867 0.         0.53864762 0.28108867 0.         0.28108867]\n",
    "# >  [0.51184851 0.         0.         0.26710379 0.51184851 0.         0.26710379 0.51184851 0.26710379]\n",
    "# >  [0.         0.46979139 0.58028582 0.38408524 0.         0.         0.38408524 0.         0.38408524]]\n",
    "print(vectorizer.get_feature_names_out())\n",
    "# Output:\n",
    "# > ['and' 'document' 'first' 'is' 'one' 'second' 'the' 'third' 'this']"
   ]
  },
  {
   "cell_type": "code",
   "execution_count": 7,
   "metadata": {},
   "outputs": [
    {
     "name": "stderr",
     "output_type": "stream",
     "text": [
      "WARNING:gensim.models.word2vec:Effective 'alpha' higher than previous training cycles\n"
     ]
    },
    {
     "name": "stdout",
     "output_type": "stream",
     "text": [
      "[-5.3622725e-04  2.3643136e-04  5.1033497e-03  9.0092728e-03\n",
      " -9.3029495e-03 -7.1168090e-03  6.4588725e-03  8.9729885e-03\n",
      " -5.0154282e-03 -3.7633716e-03  7.3805046e-03 -1.5334714e-03\n",
      " -4.5366134e-03  6.5540518e-03 -4.8601604e-03 -1.8160177e-03\n",
      "  2.8765798e-03  9.9187379e-04 -8.2852151e-03 -9.4488179e-03\n",
      "  7.3117660e-03  5.0702621e-03  6.7576934e-03  7.6286553e-04\n",
      "  6.3508903e-03 -3.4053659e-03 -9.4640139e-04  5.7685734e-03\n",
      " -7.5216377e-03 -3.9361035e-03 -7.5115822e-03 -9.3004224e-04\n",
      "  9.5381187e-03 -7.3191668e-03 -2.3337686e-03 -1.9377411e-03\n",
      "  8.0774371e-03 -5.9308959e-03  4.5162440e-05 -4.7537340e-03\n",
      " -9.6035507e-03  5.0072931e-03 -8.7595852e-03 -4.3918253e-03\n",
      " -3.5099984e-05 -2.9618145e-04 -7.6612402e-03  9.6147433e-03\n",
      "  4.9820580e-03  9.2331432e-03 -8.1579173e-03  4.4957981e-03\n",
      " -4.1370760e-03  8.2453608e-04  8.4986202e-03 -4.4621765e-03\n",
      "  4.5175003e-03 -6.7869602e-03 -3.5484887e-03  9.3985079e-03\n",
      " -1.5776526e-03  3.2137157e-04 -4.1406299e-03 -7.6826881e-03\n",
      " -1.5080082e-03  2.4697948e-03 -8.8802696e-04  5.5336617e-03\n",
      " -2.7429771e-03  2.2600652e-03  5.4557943e-03  8.3459532e-03\n",
      " -1.4537406e-03 -9.2081428e-03  4.3705525e-03  5.7178497e-04\n",
      "  7.4419081e-03 -8.1328274e-04 -2.6384138e-03 -8.7530091e-03\n",
      " -8.5655687e-04  2.8265631e-03  5.4014288e-03  7.0526563e-03\n",
      " -5.7031214e-03  1.8588197e-03  6.0888636e-03 -4.7980510e-03\n",
      " -3.1072604e-03  6.7976294e-03  1.6314756e-03  1.8991709e-04\n",
      "  3.4736372e-03  2.1777749e-04  9.6188262e-03  5.0606038e-03\n",
      " -8.9173904e-03 -7.0415605e-03  9.0145587e-04  6.3925339e-03]\n"
     ]
    }
   ],
   "source": [
    "from gensim.models import Word2Vec\n",
    "\n",
    "# Sample data\n",
    "sentences = [\n",
    "    ['this', 'is', 'the', 'first', 'document'],\n",
    "    ['this', 'document', 'is', 'the', 'second', 'document'],\n",
    "    ['and', 'this', 'is', 'the', 'third', 'one'],\n",
    "    ['is', 'this', 'the', 'first', 'document']\n",
    "]\n",
    "\n",
    "# Initialize the Word2Vec model\n",
    "model = Word2Vec(sentences, vector_size=100, window=5, min_count=1, workers=4)\n",
    "\n",
    "# Train the model\n",
    "model.train(sentences, total_examples=len(sentences), epochs=10)\n",
    "\n",
    "# Get vector for a word\n",
    "print(model.wv['document'])"
   ]
  },
  {
   "cell_type": "code",
   "execution_count": 1,
   "metadata": {},
   "outputs": [],
   "source": [
    "import gensim.downloader as api\n",
    "\n",
    "# Download pre-trained GloVe model (choose the size you need - 50, 100, 200, or 300 dimensions)\n",
    "glove_vectors = api.load(\"glove-wiki-gigaword-100\")  # Example: 100-dimensional GloVe"
   ]
  },
  {
   "cell_type": "code",
   "execution_count": 2,
   "metadata": {},
   "outputs": [
    {
     "name": "stdout",
     "output_type": "stream",
     "text": [
      "Word vectors for 'king': [-0.32307  -0.87616   0.21977   0.25268   0.22976   0.7388   -0.37954\n",
      " -0.35307  -0.84369  -1.1113   -0.30266   0.33178  -0.25113   0.30448\n",
      " -0.077491 -0.89815   0.092496 -1.1407   -0.58324   0.66869  -0.23122\n",
      " -0.95855   0.28262  -0.078848  0.75315   0.26584   0.3422   -0.33949\n",
      "  0.95608   0.065641  0.45747   0.39835   0.57965   0.39267  -0.21851\n",
      "  0.58795  -0.55999   0.63368  -0.043983 -0.68731  -0.37841   0.38026\n",
      "  0.61641  -0.88269  -0.12346  -0.37928  -0.38318   0.23868   0.6685\n",
      " -0.43321  -0.11065   0.081723  1.1569    0.78958  -0.21223  -2.3211\n",
      " -0.67806   0.44561   0.65707   0.1045    0.46217   0.19912   0.25802\n",
      "  0.057194  0.53443  -0.43133  -0.34311   0.59789  -0.58417   0.068995\n",
      "  0.23944  -0.85181   0.30379  -0.34177  -0.25746  -0.031101 -0.16285\n",
      "  0.45169  -0.91627   0.64521   0.73281  -0.22752   0.30226   0.044801\n",
      " -0.83741   0.55006  -0.52506  -1.7357    0.4751   -0.70487   0.056939\n",
      " -0.7132    0.089623  0.41394  -1.3363   -0.61915  -0.33089  -0.52881\n",
      "  0.16483  -0.98878 ]\n",
      "Word vectors for 'queen': [-0.50045  -0.70826   0.55388   0.673     0.22486   0.60281  -0.26194\n",
      "  0.73872  -0.65383  -0.21606  -0.33806   0.24498  -0.51497   0.8568\n",
      " -0.37199  -0.58824   0.30637  -0.30668  -0.2187    0.78369  -0.61944\n",
      " -0.54925   0.43067  -0.027348  0.97574   0.46169   0.11486  -0.99842\n",
      "  1.0661   -0.20819   0.53158   0.40922   1.0406    0.24943   0.18709\n",
      "  0.41528  -0.95408   0.36822  -0.37948  -0.6802   -0.14578  -0.20113\n",
      "  0.17113  -0.55705   0.7191    0.070014 -0.23637   0.49534   1.1576\n",
      " -0.05078   0.25731  -0.091052  1.2663    1.1047   -0.51584  -2.0033\n",
      " -0.64821   0.16417   0.32935   0.048484  0.18997   0.66116   0.080882\n",
      "  0.3364    0.22758   0.1462   -0.51005   0.63777   0.47299  -0.3282\n",
      "  0.083899 -0.78547   0.099148  0.039176  0.27893   0.11747   0.57862\n",
      "  0.043639 -0.15965  -0.35304  -0.048965 -0.32461   1.4981    0.58138\n",
      " -1.132    -0.60673  -0.37505  -1.1813    0.80117  -0.50014  -0.16574\n",
      " -0.70584   0.43012   0.51051  -0.8033   -0.66572  -0.63717  -0.36032\n",
      "  0.13347  -0.56075 ]\n",
      "Cosine similarity between 'king' and 'queen': 0.7507690191268921\n"
     ]
    }
   ],
   "source": [
    "# Get word vectors (embeddings)\n",
    "word1 = \"king\"\n",
    "word2 = \"queen\"\n",
    "vector1 = glove_vectors[word1]\n",
    "vector2 = glove_vectors[word2]\n",
    "\n",
    "# Compute cosine similarity between the two word vectors\n",
    "similarity = glove_vectors.similarity(word1, word2)\n",
    "\n",
    "print(f\"Word vectors for '{word1}': {vector1}\")\n",
    "print(f\"Word vectors for '{word2}': {vector2}\")\n",
    "print(f\"Cosine similarity between '{word1}' and '{word2}': {similarity}\")"
   ]
  },
  {
   "cell_type": "code",
   "execution_count": 3,
   "metadata": {},
   "outputs": [
    {
     "data": {
      "image/png": "[encoded data removed]",
      "text/plain": [
       "<Figure size 640x480 with 1 Axes>"
      ]
     },
     "metadata": {},
     "output_type": "display_data"
    }
   ],
   "source": [
    "import gensim.downloader as api\n",
    "import numpy as np\n",
    "\n",
    "import matplotlib.pyplot as plt\n",
    "from sklearn.manifold import TSNE\n",
    "\n",
    "glove_vectors = api.load(\"glove-wiki-gigaword-100\")\n",
    "\n",
    "european_capitals = [\n",
    "    \"Paris\", \"France\",\n",
    "    \"Berlin\", \"Germany\",\n",
    "    \"Rome\", \"Italy\",\n",
    "    \"Madrid\", \"Spain\",\n",
    "    \"Vienna\", \"Austria\",\n",
    "    \"Brussels\", \"Belgium\",\n",
    "    \"Amsterdam\", \"Netherlands\",\n",
    "    \"Lisbon\", \"Portugal\",\n",
    "    \"Athens\", \"Greece\",\n",
    "    \"Dublin\", \"Ireland\",\n",
    "    \"Oslo\", \"Norway\",\n",
    "    \"Stockholm\", \"Sweden\",\n",
    "    \"Helsinki\", \"Finland\",\n",
    "    \"Copenhagen\", \"Denmark\",\n",
    "    \"Bern\", \"Switzerland\",\n",
    "    \"Warsaw\", \"Poland\",\n",
    "    \"Budapest\", \"Hungary\",\n",
    "    \"Sofia\", \"Bulgaria\"\n",
    "]\n",
    "\n",
    "tsne = TSNE(n_components=2, random_state=0)\n",
    "tsne_vectors = tsne.fit_transform(np.array([glove_vectors[word.lower()] for word in european_capitals]))\n",
    "\n",
    "for i, word in enumerate(european_capitals):\n",
    "    plt.annotate(word, xy=(tsne_vectors[i, 0], tsne_vectors[i, 1]))\n",
    "# draw arrow between two city and country\n",
    "for i in range(0, len(european_capitals), 2):\n",
    "    plt.arrow(tsne_vectors[i, 0], tsne_vectors[i, 1], tsne_vectors[i+1, 0] - tsne_vectors[i, 0], tsne_vectors[i+1, 1] - tsne_vectors[i, 1], head_width=0.01, head_length=0.02)\n",
    "plt.scatter(tsne_vectors[:, 0], tsne_vectors[:, 1])\n",
    "\n",
    "plt.show()\n"
   ]
  },
  {
   "cell_type": "code",
   "execution_count": 4,
   "metadata": {},
   "outputs": [
    {
     "name": "stdout",
     "output_type": "stream",
     "text": [
      "[ 7.28658633e-04  4.16975323e-04 -9.04823013e-04  1.81001960e-03\n",
      " -1.67903654e-05 -3.09501472e-03 -8.94924597e-05  1.52686599e-03\n",
      "  8.70525721e-04 -9.01299238e-04  1.43874600e-03  5.59412183e-05\n",
      "  4.59743809e-04  3.46187595e-03  8.36980762e-04 -1.69622083e-03\n",
      "  3.13669851e-04 -7.36940594e-04  6.58333665e-05 -5.58551459e-04\n",
      "  9.99022392e-04  7.64884113e-04  2.00318667e-04  8.93982826e-04\n",
      " -3.39016761e-03  9.25415254e-04  1.11034795e-04 -8.58929066e-04\n",
      "  1.25828237e-05  1.05972786e-05 -8.64572416e-04 -3.38818500e-04\n",
      " -1.39185390e-03  2.87857492e-05  1.37834053e-03  2.59727211e-04\n",
      "  1.30050757e-03 -4.25247534e-04 -7.64057448e-04  1.27068837e-03\n",
      " -1.51411525e-03 -6.99590892e-05 -4.52115142e-04  7.29623483e-04\n",
      "  4.04204417e-04 -1.35204216e-04 -5.19728346e-04  2.75263912e-03\n",
      " -3.28213559e-04 -3.32455500e-04 -1.98965732e-04  5.10342361e-04\n",
      " -9.89962136e-04  1.53860752e-03  8.56888772e-04  1.58262334e-03\n",
      "  4.72602871e-04  1.90332241e-03 -1.62470201e-03  5.29104436e-04\n",
      "  6.73180853e-04 -6.79468387e-04 -1.31096039e-03  1.47368060e-03\n",
      " -1.07510027e-03  9.23705753e-04  6.88726897e-04 -1.23903668e-03\n",
      "  6.57861819e-04  2.94803036e-03  8.15517502e-04 -1.23389752e-03\n",
      "  8.51937861e-04 -8.26168514e-04 -5.39954111e-04 -8.40362569e-04\n",
      "  1.08393887e-03  4.30488901e-04  4.95287182e-04  4.56409383e-04\n",
      " -6.79700868e-04  1.40272698e-03  6.54390606e-04  7.74839078e-04\n",
      "  1.86029519e-03  1.31470012e-03 -7.41874159e-04 -5.95930149e-04\n",
      "  7.25969672e-04 -7.28353800e-04  1.70505268e-03 -1.46671582e-03\n",
      "  1.18277012e-03 -1.86940061e-03  4.19470918e-04  3.31948372e-03\n",
      "  8.00876645e-04 -5.67180396e-04  2.11541745e-04  4.49019681e-05]\n"
     ]
    }
   ],
   "source": [
    "from gensim.models import FastText\n",
    "\n",
    "# Sample data\n",
    "sentences = [\n",
    "    ['this', 'is', 'the', 'first', 'document'],\n",
    "    ['this', 'document', 'is', 'the', 'second', 'document'],\n",
    "    ['and', 'this', 'is', 'the', 'third', 'one'],\n",
    "    ['is', 'this', 'the', 'first', 'document']\n",
    "]\n",
    "\n",
    "# Initialize the FastText model\n",
    "model = FastText(sentences, vector_size=100, window=5, min_count=1, workers=4)\n",
    "\n",
    "# Train the model\n",
    "model.train(sentences, total_examples=len(sentences), epochs=10)\n",
    "\n",
    "# Get vector for a word\n",
    "print(model.wv['document'])"
   ]
  },
  {
   "cell_type": "code",
   "execution_count": 5,
   "metadata": {},
   "outputs": [
    {
     "name": "stdout",
     "output_type": "stream",
     "text": [
      "tf.Tensor(\n",
      "[[[-0.51420665 -0.46363437  0.06954873 ... -0.416793   -0.1618897\n",
      "   -0.09906247]\n",
      "  [-0.27039805 -0.5122213   0.11160287 ... -0.34354645  0.62649745\n",
      "    0.58329797]\n",
      "  [ 0.04431795 -0.00695007  0.48673087 ...  0.20627677  0.09730642\n",
      "   -0.3276356 ]\n",
      "  [-0.06724268 -0.12174092  0.18185854 ... -0.26859513 -0.4753994\n",
      "    0.25921485]\n",
      "  [-0.40819976  0.44283494 -0.1356641  ... -0.5284131   0.02166745\n",
      "   -0.10347158]\n",
      "  [-0.02840842 -0.04353215  0.04130162 ...  0.02583168 -0.01429836\n",
      "   -0.0165042 ]]\n",
      "\n",
      " [[-0.51420665 -0.46363437  0.06954873 ... -0.4207101   0.14461406\n",
      "   -0.12167097]\n",
      "  [-0.8260466  -0.5169711  -0.17691118 ...  0.1814157   0.61001146\n",
      "   -0.03992549]\n",
      "  [-0.3770342  -0.25124103 -0.58092576 ... -0.39635265  0.6087213\n",
      "    0.625291  ]\n",
      "  [ 0.1553927  -0.16151506 -0.19704217 ...  0.10307471  0.15265243\n",
      "   -0.18414298]\n",
      "  [ 0.31778377 -0.25795376 -0.32038695 ... -0.12515283 -0.21136262\n",
      "    0.37414926]\n",
      "  [-0.21022172  0.70824933 -0.41810507 ... -0.5284131   0.02166745\n",
      "   -0.10347158]]], shape=(2, 6, 1024), dtype=float32)\n"
     ]
    }
   ],
   "source": [
    "import tensorflow as tf\n",
    "import tensorflow_hub as hub\n",
    "\n",
    "# Load pre-trained ELMo model from TensorFlow Hub\n",
    "elmo = hub.load(\"https://tfhub.dev/google/elmo/3\")\n",
    "\n",
    "# Sample data\n",
    "sentences = [\"This is the first document.\", \"This document is the second document.\"]\n",
    "\n",
    "def elmo_vectors(sentences):\n",
    "    embeddings = elmo.signatures['default'](tf.constant(sentences))['elmo']\n",
    "    return embeddings\n",
    "\n",
    "# Get ELMo embeddings\n",
    "elmo_embeddings = elmo_vectors(sentences)\n",
    "print(elmo_embeddings)"
   ]
  },
  {
   "cell_type": "code",
   "execution_count": 6,
   "metadata": {},
   "outputs": [
    {
     "name": "stdout",
     "output_type": "stream",
     "text": [
      "tensor([[[ 0.0530, -0.0137, -0.2393,  ..., -0.1245, -0.1116,  0.0225],\n",
      "         [ 0.2470,  0.2260,  0.0397,  ...,  0.2413,  0.4349,  0.1768],\n",
      "         [ 0.2042, -0.2556,  0.2693,  ..., -0.1238, -0.1046, -0.1079],\n",
      "         [ 0.2612, -0.3592, -0.3855,  ..., -0.0402, -0.0254, -0.0139],\n",
      "         [-0.4881,  0.1527, -0.9368,  ..., -0.0555,  0.0667, -0.1878],\n",
      "         [ 0.0364, -0.2027, -0.0515,  ...,  0.1638,  0.1201, -0.0594]]])\n"
     ]
    }
   ],
   "source": [
    "from transformers import GPT2Tokenizer, GPT2Model\n",
    "import torch\n",
    "\n",
    "# Load pre-trained GPT-2 model and tokenizer\n",
    "tokenizer = GPT2Tokenizer.from_pretrained('gpt2')\n",
    "model = GPT2Model.from_pretrained('gpt2')\n",
    "\n",
    "# Sample data\n",
    "sentence = \"This is the first document.\"\n",
    "\n",
    "# Tokenize input\n",
    "inputs = tokenizer(sentence, return_tensors='pt')\n",
    "\n",
    "# Get embeddings\n",
    "with torch.no_grad():\n",
    "    outputs = model(**inputs)\n",
    "    embeddings = outputs.last_hidden_state\n",
    "\n",
    "print(embeddings)"
   ]
  },
  {
   "cell_type": "code",
   "execution_count": 2,
   "metadata": {},
   "outputs": [
    {
     "data": {
      "application/vnd.jupyter.widget-view+json": {
       "model_id": "8924e65f71aa4fca95a345bb38dd36aa",
       "version_major": 2,
       "version_minor": 0
      },
      "text/plain": [
       "tokenizer_config.json:   0%|          | 0.00/48.0 [00:00<?, ?B/s]"
      ]
     },
     "metadata": {},
     "output_type": "display_data"
    },
    {
     "data": {
      "application/vnd.jupyter.widget-view+json": {
       "model_id": "707a59b9026e46c9abfbae6dbf7de2ab",
       "version_major": 2,
       "version_minor": 0
      },
      "text/plain": [
       "vocab.txt:   0%|          | 0.00/232k [00:00<?, ?B/s]"
      ]
     },
     "metadata": {},
     "output_type": "display_data"
    },
    {
     "data": {
      "application/vnd.jupyter.widget-view+json": {
       "model_id": "1c92321ff32344d59ca2bf9e52999cff",
       "version_major": 2,
       "version_minor": 0
      },
      "text/plain": [
       "tokenizer.json:   0%|          | 0.00/466k [00:00<?, ?B/s]"
      ]
     },
     "metadata": {},
     "output_type": "display_data"
    },
    {
     "data": {
      "application/vnd.jupyter.widget-view+json": {
       "model_id": "94b32f587e9e472baf2211059beeb6b2",
       "version_major": 2,
       "version_minor": 0
      },
      "text/plain": [
       "config.json:   0%|          | 0.00/570 [00:00<?, ?B/s]"
      ]
     },
     "metadata": {},
     "output_type": "display_data"
    },
    {
     "data": {
      "application/vnd.jupyter.widget-view+json": {
       "model_id": "90e44fdf1f5b4f85bdd2ee849403a98e",
       "version_major": 2,
       "version_minor": 0
      },
      "text/plain": [
       "model.safetensors:   0%|          | 0.00/440M [00:00<?, ?B/s]"
      ]
     },
     "metadata": {},
     "output_type": "display_data"
    },
    {
     "name": "stdout",
     "output_type": "stream",
     "text": [
      "tensor([[[-0.1793,  0.2468,  0.2588,  ..., -0.3145,  0.4173,  0.4525],\n",
      "         [-0.7956, -0.2195,  0.1569,  ..., -0.6942,  0.6760,  0.2072],\n",
      "         [-0.5727, -0.3811,  0.5242,  ..., -0.4198,  0.4045,  0.7756],\n",
      "         ...,\n",
      "         [ 0.0790, -0.0970,  0.3574,  ..., -0.3713,  0.1667,  0.2069],\n",
      "         [ 0.6424,  0.3163, -0.2379,  ...,  0.1151, -0.5159, -0.4179],\n",
      "         [-0.6716,  0.1003,  0.6295,  ..., -0.3236,  0.2154,  0.4188]]])\n"
     ]
    }
   ],
   "source": [
    "from transformers import BertTokenizer, BertModel\n",
    "import torch\n",
    "\n",
    "# Load pre-trained BERT model and tokenizer\n",
    "tokenizer = BertTokenizer.from_pretrained('bert-base-uncased')\n",
    "model = BertModel.from_pretrained('bert-base-uncased')\n",
    "\n",
    "# Sample data\n",
    "sentence = \"This is the first document.\"\n",
    "\n",
    "# Tokenize input\n",
    "inputs = tokenizer(sentence, return_tensors='pt')\n",
    "\n",
    "# Get embeddings\n",
    "with torch.no_grad():\n",
    "    outputs = model(**inputs)\n",
    "    embeddings = outputs.last_hidden_state\n",
    "\n",
    "print(embeddings)"
   ]
  },
  {
   "cell_type": "code",
   "execution_count": null,
   "metadata": {},
   "outputs": [],
   "source": [
    "def max_pooling(model_output, attention_mask):  \n",
    "    token_embeddings = model_output.last_hidden_state\n",
    "    attention_mask = attention_mask.unsqueeze(-1).expand(token_embeddings.size()).float()\n",
    "    token_embeddings[attention_mask == 0] = -1e9  # Mask padding  \n",
    "    return torch.max(token_embeddings, 1)[0]  \n",
    "\n",
    "def mean_poooling(model_output, attention_mask):\n",
    "    token_embeddings = model_output.last_hidden_state  \n",
    "    attention_mask = attention_mask.unsqueeze(-1).expand(token_embeddings.size()).float()\n",
    "    sum_embeddings = torch.sum(token_embeddings * attention_mask, 1)\n",
    "    sum_mask = torch.clamp(attention_mask.sum(1), min=1e-9)\n",
    "    return sum_embeddings / sum_mask\n",
    "\n",
    "# For BERT models, the CLS token is the first token in the sequence\n",
    "def cls_token(model_output, *args):\n",
    "    return model_output.last_hidden_state[:, 0, :]"
   ]
  },
  {
   "cell_type": "code",
   "execution_count": 8,
   "metadata": {},
   "outputs": [
    {
     "name": "stdout",
     "output_type": "stream",
     "text": [
      "Cosine Similarity: 0.9746318461970762\n"
     ]
    }
   ],
   "source": [
    "import numpy as np\n",
    "\n",
    "def cosine_similarity(vec1, vec2):\n",
    "    \"\"\"Calculate cosine similarity between two vectors.\"\"\"\n",
    "    dot_product = np.dot(vec1, vec2)\n",
    "    norm_a = np.linalg.norm(vec1)\n",
    "    norm_b = np.linalg.norm(vec2)\n",
    "    return dot_product / (norm_a * norm_b)\n",
    "\n",
    "# Example vectors\n",
    "vec_a = np.array([1, 2, 3])\n",
    "vec_b = np.array([4, 5, 6])\n",
    "\n",
    "similarity = cosine_similarity(vec_a, vec_b)\n",
    "print(\"Cosine Similarity:\", similarity)"
   ]
  },
  {
   "cell_type": "code",
   "execution_count": 9,
   "metadata": {},
   "outputs": [
    {
     "data": {
      "application/vnd.jupyter.widget-view+json": {
       "model_id": "76cd44b4df1448b08aeeba715a98c8ce",
       "version_major": 2,
       "version_minor": 0
      },
      "text/plain": [
       "modules.json:   0%|          | 0.00/349 [00:00<?, ?B/s]"
      ]
     },
     "metadata": {},
     "output_type": "display_data"
    },
    {
     "data": {
      "application/vnd.jupyter.widget-view+json": {
       "model_id": "5a95a149ec4b4eb28be5392fcc0ad46a",
       "version_major": 2,
       "version_minor": 0
      },
      "text/plain": [
       "config_sentence_transformers.json:   0%|          | 0.00/116 [00:00<?, ?B/s]"
      ]
     },
     "metadata": {},
     "output_type": "display_data"
    },
    {
     "data": {
      "application/vnd.jupyter.widget-view+json": {
       "model_id": "04a1493dc8d84aca83089c02cdb01238",
       "version_major": 2,
       "version_minor": 0
      },
      "text/plain": [
       "README.md:   0%|          | 0.00/10.7k [00:00<?, ?B/s]"
      ]
     },
     "metadata": {},
     "output_type": "display_data"
    },
    {
     "data": {
      "application/vnd.jupyter.widget-view+json": {
       "model_id": "ecde7658a7c94291b748228ca5da82b6",
       "version_major": 2,
       "version_minor": 0
      },
      "text/plain": [
       "sentence_bert_config.json:   0%|          | 0.00/53.0 [00:00<?, ?B/s]"
      ]
     },
     "metadata": {},
     "output_type": "display_data"
    },
    {
     "data": {
      "application/vnd.jupyter.widget-view+json": {
       "model_id": "881afdaee112491eb9a4fa0982a999ba",
       "version_major": 2,
       "version_minor": 0
      },
      "text/plain": [
       "config.json:   0%|          | 0.00/612 [00:00<?, ?B/s]"
      ]
     },
     "metadata": {},
     "output_type": "display_data"
    },
    {
     "data": {
      "application/vnd.jupyter.widget-view+json": {
       "model_id": "60481d0575e84a3bb99ab9a8b538a4b6",
       "version_major": 2,
       "version_minor": 0
      },
      "text/plain": [
       "model.safetensors:   0%|          | 0.00/90.9M [00:00<?, ?B/s]"
      ]
     },
     "metadata": {},
     "output_type": "display_data"
    },
    {
     "data": {
      "application/vnd.jupyter.widget-view+json": {
       "model_id": "c927400704c14656a10aa8147d845bb8",
       "version_major": 2,
       "version_minor": 0
      },
      "text/plain": [
       "tokenizer_config.json:   0%|          | 0.00/350 [00:00<?, ?B/s]"
      ]
     },
     "metadata": {},
     "output_type": "display_data"
    },
    {
     "data": {
      "application/vnd.jupyter.widget-view+json": {
       "model_id": "13cfde2afb534c969ad0d20a918d84c7",
       "version_major": 2,
       "version_minor": 0
      },
      "text/plain": [
       "vocab.txt:   0%|          | 0.00/232k [00:00<?, ?B/s]"
      ]
     },
     "metadata": {},
     "output_type": "display_data"
    },
    {
     "data": {
      "application/vnd.jupyter.widget-view+json": {
       "model_id": "55d41b5db0aa447299a821bd187dba97",
       "version_major": 2,
       "version_minor": 0
      },
      "text/plain": [
       "tokenizer.json:   0%|          | 0.00/466k [00:00<?, ?B/s]"
      ]
     },
     "metadata": {},
     "output_type": "display_data"
    },
    {
     "data": {
      "application/vnd.jupyter.widget-view+json": {
       "model_id": "84ab7c1f45b44f8b9aed773ce092af81",
       "version_major": 2,
       "version_minor": 0
      },
      "text/plain": [
       "special_tokens_map.json:   0%|          | 0.00/112 [00:00<?, ?B/s]"
      ]
     },
     "metadata": {},
     "output_type": "display_data"
    },
    {
     "data": {
      "application/vnd.jupyter.widget-view+json": {
       "model_id": "48ad937f03424a0d8a3bb6ec38e593f2",
       "version_major": 2,
       "version_minor": 0
      },
      "text/plain": [
       "1_Pooling%2Fconfig.json:   0%|          | 0.00/190 [00:00<?, ?B/s]"
      ]
     },
     "metadata": {},
     "output_type": "display_data"
    },
    {
     "name": "stdout",
     "output_type": "stream",
     "text": [
      "Cosine Similarity Matrix:\n",
      " [[ 1.00000000e+00  5.52950740e-01 -1.47880986e-04]\n",
      " [ 5.52950740e-01  1.00000012e+00  9.15080011e-02]\n",
      " [-1.47880986e-04  9.15080011e-02  1.00000000e+00]]\n"
     ]
    }
   ],
   "source": [
    "from sentence_transformers import SentenceTransformer\n",
    "import numpy as np\n",
    "\n",
    "# Load a pre-trained sentence transformer model\n",
    "model = SentenceTransformer('all-MiniLM-L6-v2')\n",
    "\n",
    "# Define some example sentences\n",
    "sentences = [\n",
    "    \"The cat sat on the mat.\",\n",
    "    \"A feline rested on a rug.\",\n",
    "    \"The weather is sunny today.\"\n",
    "]\n",
    "\n",
    "# Generate embeddings for the sentences\n",
    "embeddings = model.encode(sentences)\n",
    "\n",
    "# Calculate cosine similarity between each pair of sentences\n",
    "def compute_similarity_matrix(embeddings):\n",
    "    num_sentences = len(embeddings)\n",
    "    similarity_matrix = np.zeros((num_sentences, num_sentences))\n",
    "    for i in range(num_sentences):\n",
    "        for j in range(num_sentences):\n",
    "            similarity_matrix[i][j] = cosine_similarity(embeddings[i], embeddings[j])\n",
    "    return similarity_matrix\n",
    "\n",
    "similarity_matrix = compute_similarity_matrix(embeddings)\n",
    "print(\"Cosine Similarity Matrix:\\n\", similarity_matrix)"
   ]
  },
  {
   "cell_type": "code",
   "execution_count": null,
   "metadata": {},
   "outputs": [],
   "source": []
  }
 ],
 "metadata": {
  "kernelspec": {
   "display_name": ".venv",
   "language": "python",
   "name": "python3"
  },
  "language_info": {
   "codemirror_mode": {
    "name": "ipython",
    "version": 3
   },
   "file_extension": ".py",
   "mimetype": "text/x-python",
   "name": "python",
   "nbconvert_exporter": "python",
   "pygments_lexer": "ipython3",
   "version": "3.11.11"
  }
 },
 "nbformat": 4,
 "nbformat_minor": 2
}
