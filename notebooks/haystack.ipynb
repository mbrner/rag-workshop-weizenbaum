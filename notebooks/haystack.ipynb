{
 "cells": [
  {
   "cell_type": "code",
   "execution_count": null,
   "id": "a6956941",
   "metadata": {},
   "outputs": [],
   "source": [
    "import random\n",
    "import re\n",
    "\n",
    "\n",
    "def assemble_snippet(essays, anchor_phrase, relative_anchor_pos, target_length):\n",
    "    random.shuffle(essays)\n",
    "    sentences = re.split(r'(?<=[.!?])\\s+', \" \".join(essays))\n",
    "    if not sentences:\n",
    "        return \"\"\n",
    "    \n",
    "    l = r = random.randint(0, len(sentences) - 1)\n",
    "    total_length = lambda l, r: sum(len(s) for s in sentences[l:r+1]) + (r - l)\n",
    "    \n",
    "    while total_length(l, r) < target_length:\n",
    "        if l > 0:\n",
    "            l -= 1\n",
    "        if total_length(l, r) >= target_length:\n",
    "            break\n",
    "        if r < len(sentences) - 1:\n",
    "            r += 1\n",
    "        if l == 0 and r == len(sentences) - 1:\n",
    "            break\n",
    "\n",
    "    window = sentences[l:r+1]\n",
    "    insert_index = int(relative_anchor_pos * len(window))\n",
    "    window.insert(insert_index, anchor_phrase)\n",
    "    return \" \".join(window).strip()\n"
   ]
  },
  {
   "cell_type": "code",
   "execution_count": null,
   "id": "92ad611a",
   "metadata": {},
   "outputs": [],
   "source": [
    "\n",
    "from datasets import load_dataset\n",
    "essays = [essay[\"text\"] for essay in load_dataset('sgoel9/paul_graham_essays', split='train')]"
   ]
  },
  {
   "cell_type": "code",
   "execution_count": null,
   "id": "ad895088-fa35-4c30-b242-adbd3f0ad79d",
   "metadata": {},
   "outputs": [],
   "source": [
    "\n",
    "from openai import OpenAI\n",
    "\n",
    "anchor = \"The RAG Tutorial at the Weizenbaum Institute takes place on the 7th of March.\"\n",
    "question = \"What is the date of the RAG Tutorial at the Weizenbaum Institute?\"\n",
    "\n",
    "target_prompt_length = 100000\n",
    "\n",
    "result = []\n",
    "num_tokens = []\n",
    "\n",
    "client = OpenAI()\n",
    "for pos in [0.1 * i for i in range(11)]:\n",
    "    context = \"\"\n",
    "    context = assemble_snippet(essays, anchor, pos, target_prompt_length * 4) # factor 4 because the assembly functions counts chars, not tokens\n",
    "    response = client.chat.completions.create(\n",
    "        model='gpt-4o-mini',\n",
    "        messages=[{\"role\": \"user\", \"content\": f\"{question}\\n\\n<context>{context}</context>\"}],\n",
    "        max_tokens=100\n",
    "    )\n",
    "    answer = response.choices[0].message.content\n",
    "    num_tokens.append(response.usage.prompt_tokens)\n",
    "    correct = client.chat.completions.create(\n",
    "        model='gpt-4o-mini',\n",
    "        messages=[\n",
    "            {\"role\": \"system\", \"content\": f\"Only answer with True or False\"},\n",
    "            {\"role\": \"user\", \"content\": f\"Does the answer contain the expected answer for the questions '{question}'\\n<provided-answer>{answer}</provided-answer>\\n<correct-answer>{anchor}</correct-answer>\"}\n",
    "        ],\n",
    "        max_tokens=100\n",
    "    )\n",
    "    result.append(bool(correct.choices[0].message.content))\n",
    "\n",
    "print(sum(result) / len(result))"
   ]
  },
  {
   "cell_type": "code",
   "execution_count": null,
   "id": "03e46b3b-4275-489a-a88c-7773681772b8",
   "metadata": {},
   "outputs": [],
   "source": [
    "num_tokens"
   ]
  }
 ],
 "metadata": {
  "kernelspec": {
   "display_name": ".venv",
   "language": "python",
   "name": "python3"
  },
  "language_info": {
   "codemirror_mode": {
    "name": "ipython",
    "version": 3
   },
   "file_extension": ".py",
   "mimetype": "text/x-python",
   "name": "python",
   "nbconvert_exporter": "python",
   "pygments_lexer": "ipython3",
   "version": "3.11.11"
  }
 },
 "nbformat": 4,
 "nbformat_minor": 5
}
